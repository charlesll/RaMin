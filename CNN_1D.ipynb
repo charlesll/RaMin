{
 "cells": [
  {
   "cell_type": "code",
   "execution_count": 2,
   "metadata": {},
   "outputs": [
    {
     "name": "stderr",
     "output_type": "stream",
     "text": [
      "Using TensorFlow backend.\n",
      "/Users/charles/anaconda/envs/ml/lib/python3.7/site-packages/tensorflow/python/framework/dtypes.py:516: FutureWarning: Passing (type, 1) or '1type' as a synonym of type is deprecated; in a future version of numpy, it will be understood as (type, (1,)) / '(1,)type'.\n",
      "  _np_qint8 = np.dtype([(\"qint8\", np.int8, 1)])\n",
      "/Users/charles/anaconda/envs/ml/lib/python3.7/site-packages/tensorflow/python/framework/dtypes.py:517: FutureWarning: Passing (type, 1) or '1type' as a synonym of type is deprecated; in a future version of numpy, it will be understood as (type, (1,)) / '(1,)type'.\n",
      "  _np_quint8 = np.dtype([(\"quint8\", np.uint8, 1)])\n",
      "/Users/charles/anaconda/envs/ml/lib/python3.7/site-packages/tensorflow/python/framework/dtypes.py:518: FutureWarning: Passing (type, 1) or '1type' as a synonym of type is deprecated; in a future version of numpy, it will be understood as (type, (1,)) / '(1,)type'.\n",
      "  _np_qint16 = np.dtype([(\"qint16\", np.int16, 1)])\n",
      "/Users/charles/anaconda/envs/ml/lib/python3.7/site-packages/tensorflow/python/framework/dtypes.py:519: FutureWarning: Passing (type, 1) or '1type' as a synonym of type is deprecated; in a future version of numpy, it will be understood as (type, (1,)) / '(1,)type'.\n",
      "  _np_quint16 = np.dtype([(\"quint16\", np.uint16, 1)])\n",
      "/Users/charles/anaconda/envs/ml/lib/python3.7/site-packages/tensorflow/python/framework/dtypes.py:520: FutureWarning: Passing (type, 1) or '1type' as a synonym of type is deprecated; in a future version of numpy, it will be understood as (type, (1,)) / '(1,)type'.\n",
      "  _np_qint32 = np.dtype([(\"qint32\", np.int32, 1)])\n",
      "/Users/charles/anaconda/envs/ml/lib/python3.7/site-packages/tensorflow/python/framework/dtypes.py:525: FutureWarning: Passing (type, 1) or '1type' as a synonym of type is deprecated; in a future version of numpy, it will be understood as (type, (1,)) / '(1,)type'.\n",
      "  np_resource = np.dtype([(\"resource\", np.ubyte, 1)])\n",
      "/Users/charles/anaconda/envs/ml/lib/python3.7/site-packages/tensorboard/compat/tensorflow_stub/dtypes.py:541: FutureWarning: Passing (type, 1) or '1type' as a synonym of type is deprecated; in a future version of numpy, it will be understood as (type, (1,)) / '(1,)type'.\n",
      "  _np_qint8 = np.dtype([(\"qint8\", np.int8, 1)])\n",
      "/Users/charles/anaconda/envs/ml/lib/python3.7/site-packages/tensorboard/compat/tensorflow_stub/dtypes.py:542: FutureWarning: Passing (type, 1) or '1type' as a synonym of type is deprecated; in a future version of numpy, it will be understood as (type, (1,)) / '(1,)type'.\n",
      "  _np_quint8 = np.dtype([(\"quint8\", np.uint8, 1)])\n",
      "/Users/charles/anaconda/envs/ml/lib/python3.7/site-packages/tensorboard/compat/tensorflow_stub/dtypes.py:543: FutureWarning: Passing (type, 1) or '1type' as a synonym of type is deprecated; in a future version of numpy, it will be understood as (type, (1,)) / '(1,)type'.\n",
      "  _np_qint16 = np.dtype([(\"qint16\", np.int16, 1)])\n",
      "/Users/charles/anaconda/envs/ml/lib/python3.7/site-packages/tensorboard/compat/tensorflow_stub/dtypes.py:544: FutureWarning: Passing (type, 1) or '1type' as a synonym of type is deprecated; in a future version of numpy, it will be understood as (type, (1,)) / '(1,)type'.\n",
      "  _np_quint16 = np.dtype([(\"quint16\", np.uint16, 1)])\n",
      "/Users/charles/anaconda/envs/ml/lib/python3.7/site-packages/tensorboard/compat/tensorflow_stub/dtypes.py:545: FutureWarning: Passing (type, 1) or '1type' as a synonym of type is deprecated; in a future version of numpy, it will be understood as (type, (1,)) / '(1,)type'.\n",
      "  _np_qint32 = np.dtype([(\"qint32\", np.int32, 1)])\n",
      "/Users/charles/anaconda/envs/ml/lib/python3.7/site-packages/tensorboard/compat/tensorflow_stub/dtypes.py:550: FutureWarning: Passing (type, 1) or '1type' as a synonym of type is deprecated; in a future version of numpy, it will be understood as (type, (1,)) / '(1,)type'.\n",
      "  np_resource = np.dtype([(\"resource\", np.ubyte, 1)])\n"
     ]
    }
   ],
   "source": [
    "import pickle, os\n",
    "import numpy as np\n",
    "\n",
    "import sklearn\n",
    "from sklearn.model_selection import train_test_split\n",
    "from sklearn.preprocessing import StandardScaler\n",
    "\n",
    "from keras.preprocessing import sequence\n",
    "from keras.models import Sequential\n",
    "from keras.layers import Dense, Dropout, Activation, Flatten\n",
    "from keras.layers import Embedding\n",
    "from keras.layers import Conv1D, GlobalMaxPooling1D, MaxPooling1D\n",
    "from keras.layers import LSTM\n",
    "from keras.callbacks import EarlyStopping\n",
    "import keras"
   ]
  },
  {
   "cell_type": "markdown",
   "metadata": {},
   "source": [
    "# Data Importation and test-valid-train split"
   ]
  },
  {
   "cell_type": "code",
   "execution_count": 3,
   "metadata": {},
   "outputs": [
    {
     "name": "stdout",
     "output_type": "stream",
     "text": [
      "Loading data...\n",
      "Shape is (845, 1000, 1)\n",
      "845 train sequences\n",
      "265 test sequences\n"
     ]
    }
   ],
   "source": [
    "#\n",
    "# Data importation\n",
    "#\n",
    "print('Loading data...')\n",
    "X = np.load('./data/excellent_unoriented/obs.npy')\n",
    "y = np.load(\"./data/excellent_unoriented/array_labels.npy\")\n",
    "\n",
    "nb_class = 27\n",
    "\n",
    "X_synth = np.load('./data/mixed_synthetic/signal_synthetic.npy')\n",
    "y_synth = np.load('./data/mixed_synthetic/fractions_synthetic.npy')\n",
    "\n",
    "#\n",
    "# Train-Test split\n",
    "#\n",
    "X_i, X_test, y_i, y_test = train_test_split(np.vstack((X,X_synth)), np.vstack((y,y_synth)), test_size=0.20, random_state=42, shuffle=True)\n",
    "X_train, X_valid, y_train, y_valid = train_test_split(X_i, y_i, test_size=0.20, random_state=42, shuffle=True)\n",
    "\n",
    "\n",
    "#\n",
    "# Reshaping\n",
    "# we need to expand to have 3D tensors as input of the 1D CNN\n",
    "\n",
    "X_train = np.expand_dims(X_train, axis=2)\n",
    "X_valid = np.expand_dims(X_valid, axis=2)\n",
    "X_test = np.expand_dims(X_test, axis=2)\n",
    "\n",
    "print('Shape is {}'.format(X_train.shape))\n",
    "print(len(X_train), 'train sequences')\n",
    "print(len(X_test), 'test sequences')\n",
    "\n"
   ]
  },
  {
   "cell_type": "markdown",
   "metadata": {},
   "source": [
    "# Building model"
   ]
  },
  {
   "cell_type": "code",
   "execution_count": 22,
   "metadata": {},
   "outputs": [
    {
     "name": "stdout",
     "output_type": "stream",
     "text": [
      "Build model...\n"
     ]
    }
   ],
   "source": [
    "#%%\n",
    "print('Build model...')\n",
    "model = Sequential()\n",
    "\n",
    "# create the model\n",
    "model.add(Conv1D(16,8,activation='relu',kernel_initializer='glorot_uniform',input_shape=(X_train.shape[1],1)))\n",
    "model.add(MaxPooling1D())\n",
    "model.add(Dropout(0.2))\n",
    "\n",
    "model.add(Conv1D(4,2,activation='relu',kernel_initializer='glorot_uniform'))\n",
    "model.add(MaxPooling1D())\n",
    "model.add(Dropout(0.2))\n",
    "\n",
    "model.add(Flatten())\n",
    "\n",
    "model.add(Dense(100, activation='relu'))\n",
    "\n",
    "model.add(Dense(nb_class, activation='softmax'))\n"
   ]
  },
  {
   "cell_type": "markdown",
   "metadata": {},
   "source": [
    "# Initialize model"
   ]
  },
  {
   "cell_type": "code",
   "execution_count": 23,
   "metadata": {},
   "outputs": [
    {
     "name": "stdout",
     "output_type": "stream",
     "text": [
      "_________________________________________________________________\n",
      "Layer (type)                 Output Shape              Param #   \n",
      "=================================================================\n",
      "conv1d_5 (Conv1D)            (None, 993, 16)           144       \n",
      "_________________________________________________________________\n",
      "max_pooling1d_5 (MaxPooling1 (None, 496, 16)           0         \n",
      "_________________________________________________________________\n",
      "dropout_5 (Dropout)          (None, 496, 16)           0         \n",
      "_________________________________________________________________\n",
      "conv1d_6 (Conv1D)            (None, 495, 4)            132       \n",
      "_________________________________________________________________\n",
      "max_pooling1d_6 (MaxPooling1 (None, 247, 4)            0         \n",
      "_________________________________________________________________\n",
      "dropout_6 (Dropout)          (None, 247, 4)            0         \n",
      "_________________________________________________________________\n",
      "flatten_3 (Flatten)          (None, 988)               0         \n",
      "_________________________________________________________________\n",
      "dense_5 (Dense)              (None, 100)               98900     \n",
      "_________________________________________________________________\n",
      "dense_6 (Dense)              (None, 27)                2727      \n",
      "=================================================================\n",
      "Total params: 101,903\n",
      "Trainable params: 101,903\n",
      "Non-trainable params: 0\n",
      "_________________________________________________________________\n",
      "None\n"
     ]
    }
   ],
   "source": [
    "early_stopping = EarlyStopping(monitor='val_loss', patience=5)\n",
    "model.compile(loss='binary_crossentropy', optimizer='adam', metrics=['accuracy'])\n",
    "\n",
    "print(model.summary())"
   ]
  },
  {
   "cell_type": "markdown",
   "metadata": {},
   "source": [
    "# Fit"
   ]
  },
  {
   "cell_type": "code",
   "execution_count": 34,
   "metadata": {},
   "outputs": [
    {
     "name": "stdout",
     "output_type": "stream",
     "text": [
      "Train on 845 samples, validate on 212 samples\n",
      "Epoch 1/100\n",
      "845/845 [==============================] - 2s 3ms/step - loss: 0.0605 - acc: 0.9173 - val_loss: 0.0683 - val_acc: 0.9174\n",
      "Epoch 2/100\n",
      "845/845 [==============================] - 2s 2ms/step - loss: 0.0603 - acc: 0.9173 - val_loss: 0.0669 - val_acc: 0.9179\n",
      "Epoch 3/100\n",
      "845/845 [==============================] - 2s 3ms/step - loss: 0.0599 - acc: 0.9172 - val_loss: 0.0684 - val_acc: 0.9174\n",
      "Epoch 4/100\n",
      "845/845 [==============================] - 2s 2ms/step - loss: 0.0599 - acc: 0.9172 - val_loss: 0.0680 - val_acc: 0.9168\n",
      "Epoch 5/100\n",
      "845/845 [==============================] - 2s 3ms/step - loss: 0.0596 - acc: 0.9176 - val_loss: 0.0669 - val_acc: 0.9172\n",
      "Epoch 6/100\n",
      "845/845 [==============================] - 2s 3ms/step - loss: 0.0598 - acc: 0.9175 - val_loss: 0.0673 - val_acc: 0.9175\n",
      "Epoch 7/100\n",
      "845/845 [==============================] - 2s 2ms/step - loss: 0.0587 - acc: 0.9176 - val_loss: 0.0668 - val_acc: 0.9179\n",
      "Epoch 8/100\n",
      "845/845 [==============================] - 2s 2ms/step - loss: 0.0580 - acc: 0.9177 - val_loss: 0.0662 - val_acc: 0.9175\n",
      "Epoch 9/100\n",
      "845/845 [==============================] - 2s 2ms/step - loss: 0.0581 - acc: 0.9176 - val_loss: 0.0663 - val_acc: 0.9172\n",
      "Epoch 10/100\n",
      "845/845 [==============================] - 2s 2ms/step - loss: 0.0590 - acc: 0.9172 - val_loss: 0.0667 - val_acc: 0.9174\n",
      "Epoch 11/100\n",
      "845/845 [==============================] - 2s 2ms/step - loss: 0.0582 - acc: 0.9174 - val_loss: 0.0667 - val_acc: 0.9170\n",
      "Epoch 12/100\n",
      "845/845 [==============================] - 2s 2ms/step - loss: 0.0576 - acc: 0.9176 - val_loss: 0.0679 - val_acc: 0.9172\n",
      "Epoch 13/100\n",
      "845/845 [==============================] - 2s 2ms/step - loss: 0.0578 - acc: 0.9172 - val_loss: 0.0663 - val_acc: 0.9170\n"
     ]
    },
    {
     "data": {
      "text/plain": [
       "<keras.callbacks.History at 0x1a58b66910>"
      ]
     },
     "execution_count": 34,
     "metadata": {},
     "output_type": "execute_result"
    }
   ],
   "source": [
    "model.fit(X_train, y_train, validation_data=(X_valid, y_valid), epochs=100, batch_size=8,callbacks=[early_stopping])"
   ]
  },
  {
   "cell_type": "markdown",
   "metadata": {},
   "source": [
    "# Evaluation on test subset"
   ]
  },
  {
   "cell_type": "code",
   "execution_count": 25,
   "metadata": {},
   "outputs": [
    {
     "name": "stdout",
     "output_type": "stream",
     "text": [
      "Train accuracy: 91.78%\n",
      "Valid accuracy: 91.75%\n",
      "TestAccuracy: 91.68%\n"
     ]
    }
   ],
   "source": [
    "scores_train = model.evaluate(X_train, y_train, verbose=0)\n",
    "print(\"Train accuracy: %.2f%%\" % (scores_train[1]*100))\n",
    "scores_valid = model.evaluate(X_valid, y_valid, verbose=0)\n",
    "print(\"Valid accuracy: %.2f%%\" % (scores_valid[1]*100))\n",
    "scores_test = model.evaluate(X_test, y_test, verbose=0)\n",
    "print(\"TestAccuracy: %.2f%%\" % (scores_test[1]*100))"
   ]
  },
  {
   "cell_type": "markdown",
   "metadata": {},
   "source": [
    "# On observations"
   ]
  },
  {
   "cell_type": "code",
   "execution_count": 31,
   "metadata": {},
   "outputs": [],
   "source": [
    "X_observed = np.load(\"./data/To_Recognize/obs.npy\")\n",
    "X_observed = np.expand_dims(X_observed, axis=2)\n",
    "\n",
    "prediction_obs = model.predict_proba(X_observed)"
   ]
  },
  {
   "cell_type": "code",
   "execution_count": 33,
   "metadata": {},
   "outputs": [
    {
     "data": {
      "text/plain": [
       "array([[2.05147429e-03, 5.62592177e-05, 2.30401158e-04, 7.22188415e-05,\n",
       "        1.22005364e-03, 2.78853349e-05, 1.41190787e-04, 4.27736435e-03,\n",
       "        6.01736456e-03, 2.15924485e-03, 1.42815406e-03, 9.59358335e-01,\n",
       "        2.10450101e-03, 6.12604548e-04, 4.63820441e-04, 5.81061118e-04,\n",
       "        1.94463646e-04, 8.38435837e-04, 4.76469402e-04, 4.16184124e-03,\n",
       "        6.27313275e-04, 7.02928446e-05, 8.32675025e-04, 3.40039493e-03,\n",
       "        2.31440947e-03, 1.21629244e-04, 6.16000080e-03],\n",
       "       [2.15973952e-04, 3.43336724e-05, 9.62359918e-05, 3.09841271e-05,\n",
       "        4.98332735e-03, 8.25096067e-05, 5.17371460e-04, 4.26484644e-03,\n",
       "        1.57639142e-02, 7.72026837e-01, 1.30946049e-03, 2.66259327e-03,\n",
       "        3.32653779e-03, 2.74419487e-02, 1.72377739e-03, 5.43638542e-02,\n",
       "        1.52937870e-03, 5.15339477e-03, 1.05024672e-04, 1.00859418e-03,\n",
       "        1.58611257e-02, 5.23231029e-05, 1.46845332e-03, 5.00738912e-04,\n",
       "        2.93074432e-03, 8.65076436e-04, 8.16807225e-02],\n",
       "       [3.05497609e-02, 7.68284281e-06, 1.42906478e-03, 2.23926190e-06,\n",
       "        8.01492810e-01, 3.55971752e-05, 2.66415318e-05, 9.31121036e-03,\n",
       "        3.95279266e-02, 2.35114060e-03, 3.00657414e-02, 4.50239889e-02,\n",
       "        5.26599411e-04, 8.39069299e-03, 1.31085199e-06, 1.16664555e-03,\n",
       "        3.21015909e-06, 1.05627729e-02, 1.53259968e-03, 4.46242542e-04,\n",
       "        5.86112356e-03, 1.35354683e-04, 1.96852008e-04, 6.23092128e-05,\n",
       "        3.27708956e-04, 8.81303276e-04, 1.00814383e-02],\n",
       "       [5.80905735e-01, 1.04495935e-04, 1.14739849e-03, 1.59562784e-04,\n",
       "        1.34069323e-05, 7.81091076e-05, 2.10974380e-04, 1.13363720e-04,\n",
       "        7.56650261e-05, 1.70002779e-04, 1.85432640e-04, 5.39791305e-04,\n",
       "        3.38569545e-04, 1.20984805e-04, 1.16036739e-03, 1.05650390e-04,\n",
       "        1.78340473e-03, 6.52325543e-05, 1.93651754e-03, 2.11525883e-04,\n",
       "        4.38625284e-04, 5.09650738e-04, 1.43057609e-04, 5.75263693e-04,\n",
       "        4.08631325e-01, 5.14890999e-05, 2.24491974e-04],\n",
       "       [1.78262984e-04, 2.26413649e-05, 5.28373814e-04, 1.11919688e-03,\n",
       "        2.87757795e-02, 2.05522629e-05, 2.92275858e-04, 2.98966113e-02,\n",
       "        8.66087452e-02, 6.20985270e-01, 2.63328641e-03, 8.37025493e-02,\n",
       "        1.13551330e-03, 3.72748589e-03, 8.02048831e-04, 8.93265679e-02,\n",
       "        7.59782211e-04, 8.33320664e-04, 7.12855428e-04, 3.16384714e-04,\n",
       "        1.31882615e-02, 5.59393520e-05, 1.62596907e-03, 1.24082202e-03,\n",
       "        2.07164269e-02, 2.87424598e-04, 1.05077326e-02],\n",
       "       [7.10678214e-05, 7.88708785e-05, 1.19707955e-04, 1.91638683e-05,\n",
       "        3.50047660e-04, 1.76982689e-06, 4.57955844e-04, 1.05429790e-03,\n",
       "        1.45240032e-04, 5.64217080e-05, 1.57743867e-03, 9.88862634e-01,\n",
       "        1.47901312e-03, 2.10913568e-05, 8.72195524e-05, 4.99401212e-05,\n",
       "        6.20432838e-05, 3.08358904e-05, 2.72401696e-04, 2.67818500e-03,\n",
       "        4.11975561e-05, 1.18846456e-05, 3.40660947e-04, 4.26417682e-04,\n",
       "        1.42723985e-03, 2.57140073e-05, 2.51570251e-04],\n",
       "       [1.32723385e-03, 7.36409420e-05, 7.69505627e-04, 4.58949071e-04,\n",
       "        2.53624488e-02, 6.14085526e-04, 1.25097285e-03, 7.39757270e-02,\n",
       "        8.14903080e-02, 4.03508335e-01, 5.56562748e-03, 2.30942853e-03,\n",
       "        3.16535607e-02, 4.03973237e-02, 1.69894448e-03, 1.57722428e-01,\n",
       "        5.87687641e-03, 1.15195876e-02, 6.72106689e-04, 5.65503398e-03,\n",
       "        1.20170237e-02, 6.27931498e-04, 2.43547233e-03, 7.92752672e-03,\n",
       "        1.76524632e-02, 4.19452408e-04, 1.07018016e-01],\n",
       "       [9.72991911e-05, 3.07117953e-05, 5.79783373e-05, 5.41343434e-05,\n",
       "        1.16414798e-03, 4.18600321e-05, 2.32080391e-04, 2.18566973e-03,\n",
       "        2.69188965e-03, 8.91217232e-01, 4.17430070e-04, 5.55343111e-04,\n",
       "        2.98720144e-04, 7.71019468e-03, 8.54118902e-04, 5.93556091e-02,\n",
       "        1.00761198e-03, 3.73797817e-03, 6.53500610e-05, 2.89456890e-04,\n",
       "        3.89789767e-03, 2.32110950e-04, 6.99127850e-04, 3.18841339e-04,\n",
       "        1.04584889e-02, 6.83539198e-04, 1.16451494e-02],\n",
       "       [6.29856251e-04, 6.11254713e-04, 2.37325949e-04, 8.13655381e-04,\n",
       "        9.66983214e-02, 2.46109179e-04, 2.88652576e-04, 5.18053723e-03,\n",
       "        6.87640011e-01, 2.91003603e-02, 9.42684652e-04, 1.85333099e-02,\n",
       "        6.88908482e-03, 4.94646765e-02, 1.14863412e-03, 3.51873264e-02,\n",
       "        1.37978466e-03, 3.92966811e-03, 2.50731682e-04, 1.12053589e-03,\n",
       "        1.07798977e-02, 3.86373868e-05, 2.74544046e-03, 2.64409900e-04,\n",
       "        8.17421300e-04, 1.92969840e-03, 4.31319289e-02]], dtype=float32)"
      ]
     },
     "execution_count": 33,
     "metadata": {},
     "output_type": "execute_result"
    }
   ],
   "source": [
    "prediction_obs_filtered = prediction"
   ]
  },
  {
   "cell_type": "code",
   "execution_count": null,
   "metadata": {},
   "outputs": [],
   "source": []
  }
 ],
 "metadata": {
  "kernelspec": {
   "display_name": "Python 3",
   "language": "python",
   "name": "python3"
  },
  "language_info": {
   "codemirror_mode": {
    "name": "ipython",
    "version": 3
   },
   "file_extension": ".py",
   "mimetype": "text/x-python",
   "name": "python",
   "nbconvert_exporter": "python",
   "pygments_lexer": "ipython3",
   "version": "3.7.5"
  }
 },
 "nbformat": 4,
 "nbformat_minor": 2
}
