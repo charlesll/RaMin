{
 "cells": [
  {
   "cell_type": "code",
   "execution_count": 1,
   "metadata": {},
   "outputs": [
    {
     "name": "stderr",
     "output_type": "stream",
     "text": [
      "Using TensorFlow backend.\n",
      "/Users/charles/anaconda/envs/ml/lib/python3.7/site-packages/tensorflow/python/framework/dtypes.py:516: FutureWarning: Passing (type, 1) or '1type' as a synonym of type is deprecated; in a future version of numpy, it will be understood as (type, (1,)) / '(1,)type'.\n",
      "  _np_qint8 = np.dtype([(\"qint8\", np.int8, 1)])\n",
      "/Users/charles/anaconda/envs/ml/lib/python3.7/site-packages/tensorflow/python/framework/dtypes.py:517: FutureWarning: Passing (type, 1) or '1type' as a synonym of type is deprecated; in a future version of numpy, it will be understood as (type, (1,)) / '(1,)type'.\n",
      "  _np_quint8 = np.dtype([(\"quint8\", np.uint8, 1)])\n",
      "/Users/charles/anaconda/envs/ml/lib/python3.7/site-packages/tensorflow/python/framework/dtypes.py:518: FutureWarning: Passing (type, 1) or '1type' as a synonym of type is deprecated; in a future version of numpy, it will be understood as (type, (1,)) / '(1,)type'.\n",
      "  _np_qint16 = np.dtype([(\"qint16\", np.int16, 1)])\n",
      "/Users/charles/anaconda/envs/ml/lib/python3.7/site-packages/tensorflow/python/framework/dtypes.py:519: FutureWarning: Passing (type, 1) or '1type' as a synonym of type is deprecated; in a future version of numpy, it will be understood as (type, (1,)) / '(1,)type'.\n",
      "  _np_quint16 = np.dtype([(\"quint16\", np.uint16, 1)])\n",
      "/Users/charles/anaconda/envs/ml/lib/python3.7/site-packages/tensorflow/python/framework/dtypes.py:520: FutureWarning: Passing (type, 1) or '1type' as a synonym of type is deprecated; in a future version of numpy, it will be understood as (type, (1,)) / '(1,)type'.\n",
      "  _np_qint32 = np.dtype([(\"qint32\", np.int32, 1)])\n",
      "/Users/charles/anaconda/envs/ml/lib/python3.7/site-packages/tensorflow/python/framework/dtypes.py:525: FutureWarning: Passing (type, 1) or '1type' as a synonym of type is deprecated; in a future version of numpy, it will be understood as (type, (1,)) / '(1,)type'.\n",
      "  np_resource = np.dtype([(\"resource\", np.ubyte, 1)])\n",
      "/Users/charles/anaconda/envs/ml/lib/python3.7/site-packages/tensorboard/compat/tensorflow_stub/dtypes.py:541: FutureWarning: Passing (type, 1) or '1type' as a synonym of type is deprecated; in a future version of numpy, it will be understood as (type, (1,)) / '(1,)type'.\n",
      "  _np_qint8 = np.dtype([(\"qint8\", np.int8, 1)])\n",
      "/Users/charles/anaconda/envs/ml/lib/python3.7/site-packages/tensorboard/compat/tensorflow_stub/dtypes.py:542: FutureWarning: Passing (type, 1) or '1type' as a synonym of type is deprecated; in a future version of numpy, it will be understood as (type, (1,)) / '(1,)type'.\n",
      "  _np_quint8 = np.dtype([(\"quint8\", np.uint8, 1)])\n",
      "/Users/charles/anaconda/envs/ml/lib/python3.7/site-packages/tensorboard/compat/tensorflow_stub/dtypes.py:543: FutureWarning: Passing (type, 1) or '1type' as a synonym of type is deprecated; in a future version of numpy, it will be understood as (type, (1,)) / '(1,)type'.\n",
      "  _np_qint16 = np.dtype([(\"qint16\", np.int16, 1)])\n",
      "/Users/charles/anaconda/envs/ml/lib/python3.7/site-packages/tensorboard/compat/tensorflow_stub/dtypes.py:544: FutureWarning: Passing (type, 1) or '1type' as a synonym of type is deprecated; in a future version of numpy, it will be understood as (type, (1,)) / '(1,)type'.\n",
      "  _np_quint16 = np.dtype([(\"quint16\", np.uint16, 1)])\n",
      "/Users/charles/anaconda/envs/ml/lib/python3.7/site-packages/tensorboard/compat/tensorflow_stub/dtypes.py:545: FutureWarning: Passing (type, 1) or '1type' as a synonym of type is deprecated; in a future version of numpy, it will be understood as (type, (1,)) / '(1,)type'.\n",
      "  _np_qint32 = np.dtype([(\"qint32\", np.int32, 1)])\n",
      "/Users/charles/anaconda/envs/ml/lib/python3.7/site-packages/tensorboard/compat/tensorflow_stub/dtypes.py:550: FutureWarning: Passing (type, 1) or '1type' as a synonym of type is deprecated; in a future version of numpy, it will be understood as (type, (1,)) / '(1,)type'.\n",
      "  np_resource = np.dtype([(\"resource\", np.ubyte, 1)])\n"
     ]
    }
   ],
   "source": [
    "import pickle, os\n",
    "import numpy as np\n",
    "\n",
    "import sklearn\n",
    "from sklearn.model_selection import train_test_split\n",
    "from sklearn.preprocessing import StandardScaler\n",
    "\n",
    "from keras.preprocessing import sequence\n",
    "from keras.models import Sequential\n",
    "from keras.layers import Dense, Dropout, Activation, Flatten\n",
    "from keras.layers import Embedding\n",
    "from keras.layers import Conv1D, GlobalMaxPooling1D, MaxPooling1D\n",
    "from keras.layers import LSTM\n",
    "from keras.callbacks import EarlyStopping\n",
    "import keras"
   ]
  },
  {
   "cell_type": "markdown",
   "metadata": {},
   "source": [
    "# Data Importation and test-valid-train split"
   ]
  },
  {
   "cell_type": "code",
   "execution_count": 78,
   "metadata": {},
   "outputs": [
    {
     "name": "stdout",
     "output_type": "stream",
     "text": [
      "Loading data...\n",
      "Shape is (845, 1000, 1)\n",
      "845 train sequences\n",
      "265 test sequences\n"
     ]
    }
   ],
   "source": [
    "#\n",
    "# Data importation\n",
    "#\n",
    "print('Loading data...')\n",
    "X = np.load('./data/excellent_unoriented/obs.npy')\n",
    "y = np.load(\"./data/excellent_unoriented/array_labels.npy\")\n",
    "\n",
    "nb_class = 27\n",
    "\n",
    "X_synth = np.load('./data/mixed_synthetic/signal_synthetic.npy')\n",
    "y_synth = np.load('./data/mixed_synthetic/fractions_synthetic.npy')\n",
    "\n",
    "#\n",
    "# Train-Test split\n",
    "#\n",
    "X_i, X_test, y_i, y_test = train_test_split(np.vstack((X,X_synth)), np.vstack((y,y_synth)), test_size=0.20, random_state=42, shuffle=True)\n",
    "X_train, X_valid, y_train, y_valid = train_test_split(X_i, y_i, test_size=0.20, random_state=42, shuffle=True)\n",
    "\n",
    "\n",
    "#\n",
    "# Reshaping\n",
    "# we need to expand to have 3D tensors as input of the 1D CNN\n",
    "\n",
    "X_train = np.expand_dims(X_train, axis=2)\n",
    "X_valid = np.expand_dims(X_valid, axis=2)\n",
    "X_test = np.expand_dims(X_test, axis=2)\n",
    "\n",
    "print('Shape is {}'.format(X_train.shape))\n",
    "print(len(X_train), 'train sequences')\n",
    "print(len(X_test), 'test sequences')\n",
    "\n"
   ]
  },
  {
   "cell_type": "markdown",
   "metadata": {},
   "source": [
    "# Building model"
   ]
  },
  {
   "cell_type": "code",
   "execution_count": 79,
   "metadata": {},
   "outputs": [
    {
     "name": "stdout",
     "output_type": "stream",
     "text": [
      "Build model...\n"
     ]
    }
   ],
   "source": [
    "#%%\n",
    "print('Build model...')\n",
    "model = Sequential()\n",
    "\n",
    "# create the model\n",
    "model.add(Conv1D(16,8,activation='relu',kernel_initializer='glorot_uniform',input_shape=(X_train.shape[1],1)))\n",
    "model.add(MaxPooling1D())\n",
    "model.add(Dropout(0.2))\n",
    "\n",
    "model.add(Conv1D(4,2,activation='relu',kernel_initializer='glorot_uniform'))\n",
    "model.add(MaxPooling1D())\n",
    "model.add(Dropout(0.2))\n",
    "\n",
    "model.add(Flatten())\n",
    "\n",
    "model.add(Dense(100, activation='relu'))\n",
    "\n",
    "model.add(Dense(nb_class, activation='softmax'))\n"
   ]
  },
  {
   "cell_type": "markdown",
   "metadata": {},
   "source": [
    "# Initialize model"
   ]
  },
  {
   "cell_type": "code",
   "execution_count": 80,
   "metadata": {},
   "outputs": [
    {
     "name": "stdout",
     "output_type": "stream",
     "text": [
      "_________________________________________________________________\n",
      "Layer (type)                 Output Shape              Param #   \n",
      "=================================================================\n",
      "conv1d_18 (Conv1D)           (None, 993, 16)           144       \n",
      "_________________________________________________________________\n",
      "max_pooling1d_18 (MaxPooling (None, 496, 16)           0         \n",
      "_________________________________________________________________\n",
      "dropout_18 (Dropout)         (None, 496, 16)           0         \n",
      "_________________________________________________________________\n",
      "conv1d_19 (Conv1D)           (None, 495, 4)            132       \n",
      "_________________________________________________________________\n",
      "max_pooling1d_19 (MaxPooling (None, 247, 4)            0         \n",
      "_________________________________________________________________\n",
      "dropout_19 (Dropout)         (None, 247, 4)            0         \n",
      "_________________________________________________________________\n",
      "flatten_16 (Flatten)         (None, 988)               0         \n",
      "_________________________________________________________________\n",
      "dense_30 (Dense)             (None, 100)               98900     \n",
      "_________________________________________________________________\n",
      "dense_31 (Dense)             (None, 27)                2727      \n",
      "=================================================================\n",
      "Total params: 101,903\n",
      "Trainable params: 101,903\n",
      "Non-trainable params: 0\n",
      "_________________________________________________________________\n",
      "None\n"
     ]
    }
   ],
   "source": [
    "early_stopping = EarlyStopping(monitor='val_loss', patience=5)\n",
    "model.compile(loss='mean_absolute_error', optimizer='adam', metrics=['accuracy'])\n",
    "\n",
    "print(model.summary())"
   ]
  },
  {
   "cell_type": "markdown",
   "metadata": {},
   "source": [
    "# Fit"
   ]
  },
  {
   "cell_type": "code",
   "execution_count": 81,
   "metadata": {},
   "outputs": [
    {
     "name": "stdout",
     "output_type": "stream",
     "text": [
      "Train on 845 samples, validate on 212 samples\n",
      "Epoch 1/100\n",
      "845/845 [==============================] - 4s 5ms/step - loss: 0.0535 - acc: 0.3278 - val_loss: 0.0377 - val_acc: 0.5425\n",
      "Epoch 2/100\n",
      "845/845 [==============================] - 2s 2ms/step - loss: 0.0326 - acc: 0.6189 - val_loss: 0.0305 - val_acc: 0.6557\n",
      "Epoch 3/100\n",
      "845/845 [==============================] - 2s 2ms/step - loss: 0.0292 - acc: 0.6840 - val_loss: 0.0289 - val_acc: 0.6745\n",
      "Epoch 4/100\n",
      "845/845 [==============================] - 2s 2ms/step - loss: 0.0283 - acc: 0.6769 - val_loss: 0.0285 - val_acc: 0.7028\n",
      "Epoch 5/100\n",
      "845/845 [==============================] - 2s 2ms/step - loss: 0.0276 - acc: 0.6876 - val_loss: 0.0270 - val_acc: 0.7075\n",
      "Epoch 6/100\n",
      "845/845 [==============================] - 2s 3ms/step - loss: 0.0264 - acc: 0.7006 - val_loss: 0.0288 - val_acc: 0.6792\n",
      "Epoch 7/100\n",
      "845/845 [==============================] - 2s 3ms/step - loss: 0.0260 - acc: 0.7077 - val_loss: 0.0268 - val_acc: 0.7170\n",
      "Epoch 8/100\n",
      "845/845 [==============================] - 2s 3ms/step - loss: 0.0256 - acc: 0.7349 - val_loss: 0.0265 - val_acc: 0.6981\n",
      "Epoch 9/100\n",
      "845/845 [==============================] - 2s 3ms/step - loss: 0.0253 - acc: 0.7207 - val_loss: 0.0259 - val_acc: 0.7028\n",
      "Epoch 10/100\n",
      "845/845 [==============================] - 2s 3ms/step - loss: 0.0246 - acc: 0.7231 - val_loss: 0.0260 - val_acc: 0.6840\n",
      "Epoch 11/100\n",
      "845/845 [==============================] - 2s 3ms/step - loss: 0.0241 - acc: 0.7444 - val_loss: 0.0255 - val_acc: 0.7217\n",
      "Epoch 12/100\n",
      "845/845 [==============================] - 2s 2ms/step - loss: 0.0236 - acc: 0.7385 - val_loss: 0.0254 - val_acc: 0.7264\n",
      "Epoch 13/100\n",
      "845/845 [==============================] - 2s 3ms/step - loss: 0.0236 - acc: 0.7349 - val_loss: 0.0256 - val_acc: 0.7311\n",
      "Epoch 14/100\n",
      "845/845 [==============================] - 2s 3ms/step - loss: 0.0228 - acc: 0.7337 - val_loss: 0.0248 - val_acc: 0.7217\n",
      "Epoch 15/100\n",
      "845/845 [==============================] - 2s 2ms/step - loss: 0.0225 - acc: 0.7456 - val_loss: 0.0247 - val_acc: 0.7358\n",
      "Epoch 16/100\n",
      "845/845 [==============================] - 2s 2ms/step - loss: 0.0223 - acc: 0.7432 - val_loss: 0.0243 - val_acc: 0.7406\n",
      "Epoch 17/100\n",
      "845/845 [==============================] - 2s 2ms/step - loss: 0.0220 - acc: 0.7657 - val_loss: 0.0240 - val_acc: 0.7406\n",
      "Epoch 18/100\n",
      "845/845 [==============================] - 2s 2ms/step - loss: 0.0221 - acc: 0.7396 - val_loss: 0.0245 - val_acc: 0.7453\n",
      "Epoch 19/100\n",
      "845/845 [==============================] - 2s 2ms/step - loss: 0.0220 - acc: 0.7444 - val_loss: 0.0238 - val_acc: 0.7311\n",
      "Epoch 20/100\n",
      "845/845 [==============================] - 2s 3ms/step - loss: 0.0209 - acc: 0.7669 - val_loss: 0.0235 - val_acc: 0.7075\n",
      "Epoch 21/100\n",
      "845/845 [==============================] - 2s 3ms/step - loss: 0.0211 - acc: 0.7408 - val_loss: 0.0230 - val_acc: 0.7311\n",
      "Epoch 22/100\n",
      "845/845 [==============================] - 2s 2ms/step - loss: 0.0204 - acc: 0.7467 - val_loss: 0.0229 - val_acc: 0.7123\n",
      "Epoch 23/100\n",
      "845/845 [==============================] - 2s 3ms/step - loss: 0.0205 - acc: 0.7740 - val_loss: 0.0235 - val_acc: 0.7217\n",
      "Epoch 24/100\n",
      "845/845 [==============================] - 2s 3ms/step - loss: 0.0200 - acc: 0.7550 - val_loss: 0.0224 - val_acc: 0.7453\n",
      "Epoch 25/100\n",
      "845/845 [==============================] - 2s 2ms/step - loss: 0.0197 - acc: 0.7692 - val_loss: 0.0229 - val_acc: 0.6934\n",
      "Epoch 26/100\n",
      "845/845 [==============================] - 2s 3ms/step - loss: 0.0196 - acc: 0.7562 - val_loss: 0.0225 - val_acc: 0.7170\n",
      "Epoch 27/100\n",
      "845/845 [==============================] - 2s 2ms/step - loss: 0.0192 - acc: 0.7657 - val_loss: 0.0223 - val_acc: 0.7170\n",
      "Epoch 28/100\n",
      "845/845 [==============================] - 2s 3ms/step - loss: 0.0192 - acc: 0.7408 - val_loss: 0.0222 - val_acc: 0.7028\n",
      "Epoch 29/100\n",
      "845/845 [==============================] - 2s 2ms/step - loss: 0.0190 - acc: 0.7633 - val_loss: 0.0218 - val_acc: 0.7594\n",
      "Epoch 30/100\n",
      "845/845 [==============================] - 2s 2ms/step - loss: 0.0190 - acc: 0.7408 - val_loss: 0.0215 - val_acc: 0.7264\n",
      "Epoch 31/100\n",
      "845/845 [==============================] - 2s 2ms/step - loss: 0.0186 - acc: 0.7716 - val_loss: 0.0220 - val_acc: 0.7500\n",
      "Epoch 32/100\n",
      "845/845 [==============================] - 2s 2ms/step - loss: 0.0183 - acc: 0.7740 - val_loss: 0.0215 - val_acc: 0.7358\n",
      "Epoch 33/100\n",
      "845/845 [==============================] - 2s 2ms/step - loss: 0.0183 - acc: 0.7550 - val_loss: 0.0214 - val_acc: 0.7123\n",
      "Epoch 34/100\n",
      "845/845 [==============================] - 2s 2ms/step - loss: 0.0181 - acc: 0.7550 - val_loss: 0.0212 - val_acc: 0.7406\n",
      "Epoch 35/100\n",
      "845/845 [==============================] - 2s 3ms/step - loss: 0.0176 - acc: 0.7822 - val_loss: 0.0221 - val_acc: 0.7311\n",
      "Epoch 36/100\n",
      "845/845 [==============================] - 2s 3ms/step - loss: 0.0176 - acc: 0.7562 - val_loss: 0.0211 - val_acc: 0.7311\n",
      "Epoch 37/100\n",
      "845/845 [==============================] - 2s 2ms/step - loss: 0.0175 - acc: 0.7657 - val_loss: 0.0202 - val_acc: 0.7264\n",
      "Epoch 38/100\n",
      "845/845 [==============================] - 2s 2ms/step - loss: 0.0172 - acc: 0.7811 - val_loss: 0.0207 - val_acc: 0.7217\n",
      "Epoch 39/100\n",
      "845/845 [==============================] - 2s 2ms/step - loss: 0.0166 - acc: 0.7479 - val_loss: 0.0214 - val_acc: 0.7170\n",
      "Epoch 40/100\n",
      "845/845 [==============================] - 2s 2ms/step - loss: 0.0170 - acc: 0.7621 - val_loss: 0.0206 - val_acc: 0.7028\n",
      "Epoch 41/100\n",
      "845/845 [==============================] - 2s 2ms/step - loss: 0.0167 - acc: 0.7669 - val_loss: 0.0205 - val_acc: 0.7264\n",
      "Epoch 42/100\n",
      "845/845 [==============================] - 2s 2ms/step - loss: 0.0168 - acc: 0.7515 - val_loss: 0.0203 - val_acc: 0.7170\n"
     ]
    },
    {
     "data": {
      "text/plain": [
       "<keras.callbacks.History at 0x1a6f954b90>"
      ]
     },
     "execution_count": 81,
     "metadata": {},
     "output_type": "execute_result"
    }
   ],
   "source": [
    "model.fit(X_train, y_train, validation_data=(X_valid, y_valid), epochs=100, batch_size=8,callbacks=[early_stopping])"
   ]
  },
  {
   "cell_type": "markdown",
   "metadata": {},
   "source": [
    "# Evaluation on test subset"
   ]
  },
  {
   "cell_type": "code",
   "execution_count": 83,
   "metadata": {},
   "outputs": [
    {
     "name": "stdout",
     "output_type": "stream",
     "text": [
      "Train accuracy: 79.17%\n",
      "Valid accuracy: 88.46%\n",
      "TestAccuracy: 67.55%\n"
     ]
    }
   ],
   "source": [
    "scores_train = model.evaluate(X_train, y_train, verbose=0)\n",
    "print(\"Train accuracy: %.2f%%\" % (scores_train[1]*100))\n",
    "scores_train = model.evaluate(X_valid, y_valid, verbose=0)\n",
    "print(\"Valid accuracy: %.2f%%\" % (scores_valid[1]*100))\n",
    "scores_test = model.evaluate(X_test, y_test, verbose=0)\n",
    "print(\"TestAccuracy: %.2f%%\" % (scores_test[1]*100))"
   ]
  },
  {
   "cell_type": "code",
   "execution_count": null,
   "metadata": {},
   "outputs": [],
   "source": []
  }
 ],
 "metadata": {
  "kernelspec": {
   "display_name": "Python 3",
   "language": "python",
   "name": "python3"
  },
  "language_info": {
   "codemirror_mode": {
    "name": "ipython",
    "version": 3
   },
   "file_extension": ".py",
   "mimetype": "text/x-python",
   "name": "python",
   "nbconvert_exporter": "python",
   "pygments_lexer": "ipython3",
   "version": "3.7.5"
  }
 },
 "nbformat": 4,
 "nbformat_minor": 2
}
