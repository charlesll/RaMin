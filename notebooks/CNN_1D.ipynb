{
 "cells": [
  {
   "cell_type": "code",
   "execution_count": 27,
   "metadata": {},
   "outputs": [],
   "source": [
    "%matplotlib inline\n",
    "\n",
    "import pickle, os, sklearn, keras\n",
    "import numpy as np\n",
    "\n",
    "from sklearn.model_selection import train_test_split\n",
    "from sklearn.preprocessing import StandardScaler\n",
    "\n",
    "from keras.preprocessing import sequence\n",
    "from keras.models import Sequential\n",
    "from keras.layers import Dense, Dropout, Activation, Flatten\n",
    "from keras.layers import Embedding\n",
    "from keras.layers import Conv1D, GlobalMaxPooling1D, MaxPooling1D\n",
    "from keras.layers import LSTM\n",
    "from keras.callbacks import EarlyStopping\n",
    "\n",
    "import matplotlib.pyplot as plt\n",
    "\n",
    "import pandas as pd"
   ]
  },
  {
   "cell_type": "markdown",
   "metadata": {},
   "source": [
    "# Data Importation and test-valid-train split\n",
    "\n",
    "The problem is to look at Raman spectra of minerals in order to use them to recognize the minerals and possibly quantify their proportions when they are mixed.\n",
    "\n",
    "In the following cell, we first load the initial, end-member spectra of the 27 minerals selected for this problem.\n",
    "\n",
    "Then, we also load some manually-created mixtures of up to 3 minerals to train the network to recognize mixtures.\n",
    "\n",
    "Then train-valid-test splitting of the dataset is done, as well as reshaping for proper entry shape for the 1D CNN network."
   ]
  },
  {
   "cell_type": "code",
   "execution_count": 4,
   "metadata": {},
   "outputs": [
    {
     "name": "stdout",
     "output_type": "stream",
     "text": [
      "Loading data...\n",
      "Shape is (845, 1000, 1)\n",
      "845 train sequences\n",
      "265 test sequences\n"
     ]
    }
   ],
   "source": [
    "#\n",
    "# Data importation\n",
    "#\n",
    "print('Loading data...')\n",
    "\n",
    "\n",
    "X = np.load('../data/excellent_unoriented/obs.npy')\n",
    "y = np.load(\"../data/excellent_unoriented/array_labels.npy\")\n",
    "\n",
    "nb_class = 27\n",
    "X_synth = np.load('../data/mixed_synthetic/signal_synthetic.npy')\n",
    "y_synth = np.load('../data/mixed_synthetic/fractions_synthetic.npy')\n",
    "\n",
    "#\n",
    "# Train-Test split\n",
    "#\n",
    "X_i, X_test, y_i, y_test = train_test_split(np.vstack((X,X_synth)), np.vstack((y,y_synth)), test_size=0.20, random_state=42, shuffle=True)\n",
    "X_train, X_valid, y_train, y_valid = train_test_split(X_i, y_i, test_size=0.20, random_state=42, shuffle=True)\n",
    "\n",
    "\n",
    "#\n",
    "# Reshaping\n",
    "# we need to expand to have 3D tensors as input of the 1D CNN\n",
    "\n",
    "X_train = np.expand_dims(X_train, axis=2)\n",
    "X_valid = np.expand_dims(X_valid, axis=2)\n",
    "X_test = np.expand_dims(X_test, axis=2)\n",
    "\n",
    "print('Shape is {}'.format(X_train.shape))\n",
    "print(len(X_train), 'train sequences')\n",
    "print(len(X_test), 'test sequences')\n",
    "\n"
   ]
  },
  {
   "cell_type": "markdown",
   "metadata": {},
   "source": [
    "# Building model\n",
    "\n",
    "For this example we will use a 1D convolutional neural network. See [this post](https://blog.goodaudience.com/introduction-to-1d-convolutional-neural-networks-in-keras-for-time-sequences-3a7ff801a2cf) for instance.\n",
    "\n",
    "The idea is that the 1D CNN will be sensible to peak shape and relative positions, so that it could be a good predictor for the present multilabel classification problem.\n",
    "\n",
    "We use Keras and adopt a very simple architecture : 1 conv layer followed by 1 ReLu layer, output is given by a final softmax layer. I tested a sigmoid function in output, as advised in some blogs for multilabel classification, but it performed actually poorly compared to the softmax function."
   ]
  },
  {
   "cell_type": "code",
   "execution_count": 5,
   "metadata": {},
   "outputs": [
    {
     "name": "stdout",
     "output_type": "stream",
     "text": [
      "Build model...\n"
     ]
    }
   ],
   "source": [
    "#%%\n",
    "print('Build model...')\n",
    "model = Sequential()\n",
    "\n",
    "# create the model\n",
    "model.add(Conv1D(16,8,activation='relu',kernel_initializer='glorot_uniform',input_shape=(X_train.shape[1],1)))\n",
    "model.add(MaxPooling1D())\n",
    "model.add(Dropout(0.2))\n",
    "\n",
    "model.add(Conv1D(4,2,activation='relu',kernel_initializer='glorot_uniform'))\n",
    "model.add(MaxPooling1D())\n",
    "model.add(Dropout(0.2))\n",
    "\n",
    "model.add(Flatten())\n",
    "\n",
    "model.add(Dense(100, activation='relu'))\n",
    "\n",
    "model.add(Dense(nb_class, activation='softmax'))\n"
   ]
  },
  {
   "cell_type": "markdown",
   "metadata": {},
   "source": [
    "# Initialize model\n",
    "\n",
    "We use early stopping to prevent overfitting. The loss function is given by the binary crossentropy. I tried a bunch of different loss functions and this seems to be the best performing one for this problem."
   ]
  },
  {
   "cell_type": "code",
   "execution_count": 7,
   "metadata": {},
   "outputs": [
    {
     "name": "stdout",
     "output_type": "stream",
     "text": [
      "_________________________________________________________________\n",
      "Layer (type)                 Output Shape              Param #   \n",
      "=================================================================\n",
      "conv1d_3 (Conv1D)            (None, 993, 16)           144       \n",
      "_________________________________________________________________\n",
      "max_pooling1d_3 (MaxPooling1 (None, 496, 16)           0         \n",
      "_________________________________________________________________\n",
      "dropout_3 (Dropout)          (None, 496, 16)           0         \n",
      "_________________________________________________________________\n",
      "conv1d_4 (Conv1D)            (None, 495, 4)            132       \n",
      "_________________________________________________________________\n",
      "max_pooling1d_4 (MaxPooling1 (None, 247, 4)            0         \n",
      "_________________________________________________________________\n",
      "dropout_4 (Dropout)          (None, 247, 4)            0         \n",
      "_________________________________________________________________\n",
      "flatten_2 (Flatten)          (None, 988)               0         \n",
      "_________________________________________________________________\n",
      "dense_3 (Dense)              (None, 100)               98900     \n",
      "_________________________________________________________________\n",
      "dense_4 (Dense)              (None, 27)                2727      \n",
      "=================================================================\n",
      "Total params: 101,903\n",
      "Trainable params: 101,903\n",
      "Non-trainable params: 0\n",
      "_________________________________________________________________\n",
      "None\n"
     ]
    }
   ],
   "source": [
    "early_stopping = EarlyStopping(monitor='val_loss', patience=3)\n",
    "model.compile(loss='binary_crossentropy', optimizer='adam', metrics=['accuracy'])\n",
    "\n",
    "print(model.summary())"
   ]
  },
  {
   "cell_type": "markdown",
   "metadata": {},
   "source": [
    "# Fit"
   ]
  },
  {
   "cell_type": "code",
   "execution_count": 8,
   "metadata": {},
   "outputs": [
    {
     "name": "stdout",
     "output_type": "stream",
     "text": [
      "Train on 845 samples, validate on 212 samples\n",
      "Epoch 1/100\n",
      "845/845 [==============================] - 4s 5ms/step - loss: 0.1279 - acc: 0.9108 - val_loss: 0.0933 - val_acc: 0.9154\n",
      "Epoch 2/100\n",
      "845/845 [==============================] - 2s 2ms/step - loss: 0.0862 - acc: 0.9151 - val_loss: 0.0816 - val_acc: 0.9165\n",
      "Epoch 3/100\n",
      "845/845 [==============================] - 2s 2ms/step - loss: 0.0781 - acc: 0.9161 - val_loss: 0.0810 - val_acc: 0.9168\n",
      "Epoch 4/100\n",
      "845/845 [==============================] - 2s 2ms/step - loss: 0.0748 - acc: 0.9161 - val_loss: 0.0757 - val_acc: 0.9163\n",
      "Epoch 5/100\n",
      "845/845 [==============================] - 2s 2ms/step - loss: 0.0720 - acc: 0.9166 - val_loss: 0.0736 - val_acc: 0.9170\n",
      "Epoch 6/100\n",
      "845/845 [==============================] - 2s 3ms/step - loss: 0.0714 - acc: 0.9166 - val_loss: 0.0730 - val_acc: 0.9172\n",
      "Epoch 7/100\n",
      "845/845 [==============================] - 2s 2ms/step - loss: 0.0691 - acc: 0.9171 - val_loss: 0.0727 - val_acc: 0.9172\n",
      "Epoch 8/100\n",
      "845/845 [==============================] - 2s 2ms/step - loss: 0.0683 - acc: 0.9174 - val_loss: 0.0719 - val_acc: 0.9175\n",
      "Epoch 9/100\n",
      "845/845 [==============================] - 2s 2ms/step - loss: 0.0669 - acc: 0.9168 - val_loss: 0.0714 - val_acc: 0.9177\n",
      "Epoch 10/100\n",
      "845/845 [==============================] - 2s 3ms/step - loss: 0.0654 - acc: 0.9176 - val_loss: 0.0709 - val_acc: 0.9175\n",
      "Epoch 11/100\n",
      "845/845 [==============================] - 2s 2ms/step - loss: 0.0655 - acc: 0.9169 - val_loss: 0.0696 - val_acc: 0.9179\n",
      "Epoch 12/100\n",
      "845/845 [==============================] - 2s 2ms/step - loss: 0.0637 - acc: 0.9176 - val_loss: 0.0687 - val_acc: 0.9174\n",
      "Epoch 13/100\n",
      "845/845 [==============================] - 2s 2ms/step - loss: 0.0637 - acc: 0.9174 - val_loss: 0.0684 - val_acc: 0.9172\n",
      "Epoch 14/100\n",
      "845/845 [==============================] - 2s 2ms/step - loss: 0.0633 - acc: 0.9173 - val_loss: 0.0691 - val_acc: 0.9177\n",
      "Epoch 15/100\n",
      "845/845 [==============================] - 2s 2ms/step - loss: 0.0632 - acc: 0.9171 - val_loss: 0.0703 - val_acc: 0.9170\n",
      "Epoch 16/100\n",
      "845/845 [==============================] - 2s 2ms/step - loss: 0.0623 - acc: 0.9173 - val_loss: 0.0684 - val_acc: 0.9172\n"
     ]
    },
    {
     "data": {
      "text/plain": [
       "<keras.callbacks.History at 0x1a494b8910>"
      ]
     },
     "execution_count": 8,
     "metadata": {},
     "output_type": "execute_result"
    }
   ],
   "source": [
    "model.fit(X_train, y_train, validation_data=(X_valid, y_valid), epochs=100, batch_size=8,callbacks=[early_stopping])"
   ]
  },
  {
   "cell_type": "markdown",
   "metadata": {},
   "source": [
    "# Evaluation on test subset"
   ]
  },
  {
   "cell_type": "code",
   "execution_count": 9,
   "metadata": {},
   "outputs": [
    {
     "name": "stdout",
     "output_type": "stream",
     "text": [
      "Train accuracy: 91.76%\n",
      "Valid accuracy: 91.72%\n",
      "TestAccuracy: 91.78%\n"
     ]
    }
   ],
   "source": [
    "scores_train = model.evaluate(X_train, y_train, verbose=0)\n",
    "print(\"Train accuracy: %.2f%%\" % (scores_train[1]*100))\n",
    "scores_valid = model.evaluate(X_valid, y_valid, verbose=0)\n",
    "print(\"Valid accuracy: %.2f%%\" % (scores_valid[1]*100))\n",
    "scores_test = model.evaluate(X_test, y_test, verbose=0)\n",
    "print(\"TestAccuracy: %.2f%%\" % (scores_test[1]*100))"
   ]
  },
  {
   "cell_type": "markdown",
   "metadata": {},
   "source": [
    "# On observations\n",
    "\n",
    "Those observations are real unknows. We expect single phases as well as mixture.\n",
    "\n",
    "I select the spectra at position 0 and 3 as I know from petrological observations the answer. Spectrum 0 was acquired on an olivine cristal so its signal should match a 0.9:0.1 mixture of forsterite-fayalite, so classes 10 and 11. Spectrum 3 was acquired on a with-grey area in a sodic granite so its signal should match a mixture of quartz and albite.\n",
    "\n",
    "First we can see to which minerals the labels correspond to by looking at the excel document"
   ]
  },
  {
   "cell_type": "code",
   "execution_count": 29,
   "metadata": {},
   "outputs": [
    {
     "name": "stdout",
     "output_type": "stream",
     "text": [
      "         mineral  label\n",
      "0         Albite      0\n",
      "1       Ankerite      1\n",
      "2      Anorthite      2\n",
      "3      Aragonite      3\n",
      "4         Augite      4\n",
      "5      Bytownite      5\n",
      "6        Calcite      6\n",
      "7        Diamond      7\n",
      "8       Diopside      8\n",
      "9      Enstatite      9\n",
      "10      Fayalite     10\n",
      "11    Forsterite     11\n",
      "12        Gypsum     12\n",
      "13  Hedenbergite     13\n",
      "14      Hematite     14\n",
      "15       Jadeite     15\n",
      "16      Jarosite     16\n",
      "17     Kalsilite     17\n",
      "18   Labradorite     18\n",
      "19       Leucite     19\n",
      "20     Magnetite     20\n",
      "21    Microcline     21\n",
      "22     Nepheline     22\n",
      "23    Orthoclase     23\n",
      "24        Quartz     24\n",
      "25     Tridymite     25\n",
      "26        Zircon     26\n"
     ]
    }
   ],
   "source": [
    "class_correspondance = pd.read_excel(\"../data/file_liste_excellent.xlsx\",sheet_name=\"subset_to_train\")\n",
    "print(class_correspondance)"
   ]
  },
  {
   "cell_type": "code",
   "execution_count": 38,
   "metadata": {},
   "outputs": [
    {
     "data": {
      "text/plain": [
       "<matplotlib.legend.Legend at 0x1a5d0e3cd0>"
      ]
     },
     "execution_count": 38,
     "metadata": {},
     "output_type": "execute_result"
    },
    {
     "data": {
      "image/png": "[encoded data removed]",
      "text/plain": [
       "<Figure size 432x288 with 2 Axes>"
      ]
     },
     "metadata": {
      "needs_background": "light"
     },
     "output_type": "display_data"
    }
   ],
   "source": [
    "X_observed = np.load(\"../data/To_Recognize/obs.npy\")\n",
    "X_observed = np.expand_dims(X_observed, axis=2)\n",
    "\n",
    "prediction_obs = model.predict_proba(X_observed)\n",
    "\n",
    "plt.figure()\n",
    "plt.title(\"Comparison between guess and CNN prediction\")\n",
    "plt.subplot(2,1,1)\n",
    "plt.plot(prediction_obs[0,:],\"--\",color=\"C0\",label=\"Petrological obs.\")\n",
    "plt.plot(np.arange(0,27,1),[0,0,0,0,0,0,0,0,0,0,0.1,0.9,0,0,0,0,0,0,0,0,0,0,0,0,0,0,0],\".\",color=\"C0\",label=\"Model preds.\")\n",
    "plt.ylabel(\"Probability\")\n",
    "plt.legend()\n",
    "\n",
    "plt.subplot(2,1,2)\n",
    "plt.plot(np.arange(0,27,1),[0.5,0,0,0,0,0,0,0,0,0,0.0,0.0,0,0,0,0,0,0,0,0,0,0,0,0,0.5,0,0],\".\",color=\"C0\",label=\"Petrological obs.\")\n",
    "plt.plot(prediction_obs[3,:],label=\"Model preds.\")\n",
    "plt.ylabel(\"Probability\")\n",
    "plt.legend()"
   ]
  },
  {
   "cell_type": "markdown",
   "metadata": {},
   "source": [
    "# Final comment\n",
    "\n",
    "We see that the 1D CNN performs well. This method could be interesting to pursue further."
   ]
  },
  {
   "cell_type": "code",
   "execution_count": null,
   "metadata": {},
   "outputs": [],
   "source": []
  }
 ],
 "metadata": {
  "kernelspec": {
   "display_name": "Python 3",
   "language": "python",
   "name": "python3"
  },
  "language_info": {
   "codemirror_mode": {
    "name": "ipython",
    "version": 3
   },
   "file_extension": ".py",
   "mimetype": "text/x-python",
   "name": "python",
   "nbconvert_exporter": "python",
   "pygments_lexer": "ipython3",
   "version": "3.7.5"
  }
 },
 "nbformat": 4,
 "nbformat_minor": 2
}
