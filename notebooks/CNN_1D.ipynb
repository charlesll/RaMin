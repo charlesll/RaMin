{
 "cells": [
  {
   "cell_type": "code",
   "execution_count": 2,
   "metadata": {},
   "outputs": [
    {
     "name": "stderr",
     "output_type": "stream",
     "text": [
      "Using TensorFlow backend.\n",
      "/Users/charles/anaconda/envs/ml/lib/python3.7/site-packages/tensorflow/python/framework/dtypes.py:516: FutureWarning: Passing (type, 1) or '1type' as a synonym of type is deprecated; in a future version of numpy, it will be understood as (type, (1,)) / '(1,)type'.\n",
      "  _np_qint8 = np.dtype([(\"qint8\", np.int8, 1)])\n",
      "/Users/charles/anaconda/envs/ml/lib/python3.7/site-packages/tensorflow/python/framework/dtypes.py:517: FutureWarning: Passing (type, 1) or '1type' as a synonym of type is deprecated; in a future version of numpy, it will be understood as (type, (1,)) / '(1,)type'.\n",
      "  _np_quint8 = np.dtype([(\"quint8\", np.uint8, 1)])\n",
      "/Users/charles/anaconda/envs/ml/lib/python3.7/site-packages/tensorflow/python/framework/dtypes.py:518: FutureWarning: Passing (type, 1) or '1type' as a synonym of type is deprecated; in a future version of numpy, it will be understood as (type, (1,)) / '(1,)type'.\n",
      "  _np_qint16 = np.dtype([(\"qint16\", np.int16, 1)])\n",
      "/Users/charles/anaconda/envs/ml/lib/python3.7/site-packages/tensorflow/python/framework/dtypes.py:519: FutureWarning: Passing (type, 1) or '1type' as a synonym of type is deprecated; in a future version of numpy, it will be understood as (type, (1,)) / '(1,)type'.\n",
      "  _np_quint16 = np.dtype([(\"quint16\", np.uint16, 1)])\n",
      "/Users/charles/anaconda/envs/ml/lib/python3.7/site-packages/tensorflow/python/framework/dtypes.py:520: FutureWarning: Passing (type, 1) or '1type' as a synonym of type is deprecated; in a future version of numpy, it will be understood as (type, (1,)) / '(1,)type'.\n",
      "  _np_qint32 = np.dtype([(\"qint32\", np.int32, 1)])\n",
      "/Users/charles/anaconda/envs/ml/lib/python3.7/site-packages/tensorflow/python/framework/dtypes.py:525: FutureWarning: Passing (type, 1) or '1type' as a synonym of type is deprecated; in a future version of numpy, it will be understood as (type, (1,)) / '(1,)type'.\n",
      "  np_resource = np.dtype([(\"resource\", np.ubyte, 1)])\n",
      "/Users/charles/anaconda/envs/ml/lib/python3.7/site-packages/tensorboard/compat/tensorflow_stub/dtypes.py:541: FutureWarning: Passing (type, 1) or '1type' as a synonym of type is deprecated; in a future version of numpy, it will be understood as (type, (1,)) / '(1,)type'.\n",
      "  _np_qint8 = np.dtype([(\"qint8\", np.int8, 1)])\n",
      "/Users/charles/anaconda/envs/ml/lib/python3.7/site-packages/tensorboard/compat/tensorflow_stub/dtypes.py:542: FutureWarning: Passing (type, 1) or '1type' as a synonym of type is deprecated; in a future version of numpy, it will be understood as (type, (1,)) / '(1,)type'.\n",
      "  _np_quint8 = np.dtype([(\"quint8\", np.uint8, 1)])\n",
      "/Users/charles/anaconda/envs/ml/lib/python3.7/site-packages/tensorboard/compat/tensorflow_stub/dtypes.py:543: FutureWarning: Passing (type, 1) or '1type' as a synonym of type is deprecated; in a future version of numpy, it will be understood as (type, (1,)) / '(1,)type'.\n",
      "  _np_qint16 = np.dtype([(\"qint16\", np.int16, 1)])\n",
      "/Users/charles/anaconda/envs/ml/lib/python3.7/site-packages/tensorboard/compat/tensorflow_stub/dtypes.py:544: FutureWarning: Passing (type, 1) or '1type' as a synonym of type is deprecated; in a future version of numpy, it will be understood as (type, (1,)) / '(1,)type'.\n",
      "  _np_quint16 = np.dtype([(\"quint16\", np.uint16, 1)])\n",
      "/Users/charles/anaconda/envs/ml/lib/python3.7/site-packages/tensorboard/compat/tensorflow_stub/dtypes.py:545: FutureWarning: Passing (type, 1) or '1type' as a synonym of type is deprecated; in a future version of numpy, it will be understood as (type, (1,)) / '(1,)type'.\n",
      "  _np_qint32 = np.dtype([(\"qint32\", np.int32, 1)])\n",
      "/Users/charles/anaconda/envs/ml/lib/python3.7/site-packages/tensorboard/compat/tensorflow_stub/dtypes.py:550: FutureWarning: Passing (type, 1) or '1type' as a synonym of type is deprecated; in a future version of numpy, it will be understood as (type, (1,)) / '(1,)type'.\n",
      "  np_resource = np.dtype([(\"resource\", np.ubyte, 1)])\n"
     ]
    }
   ],
   "source": [
    "import pickle, os\n",
    "import numpy as np\n",
    "\n",
    "import sklearn\n",
    "from sklearn.model_selection import train_test_split\n",
    "from sklearn.preprocessing import StandardScaler\n",
    "\n",
    "from keras.preprocessing import sequence\n",
    "from keras.models import Sequential\n",
    "from keras.layers import Dense, Dropout, Activation, Flatten\n",
    "from keras.layers import Embedding\n",
    "from keras.layers import Conv1D, GlobalMaxPooling1D, MaxPooling1D\n",
    "from keras.layers import LSTM\n",
    "from keras.callbacks import EarlyStopping\n",
    "import keras"
   ]
  },
  {
   "cell_type": "markdown",
   "metadata": {},
   "source": [
    "# Data Importation and test-valid-train split"
   ]
  },
  {
   "cell_type": "code",
   "execution_count": 3,
   "metadata": {},
   "outputs": [
    {
     "name": "stdout",
     "output_type": "stream",
     "text": [
      "Loading data...\n",
      "Shape is (845, 1000, 1)\n",
      "845 train sequences\n",
      "265 test sequences\n"
     ]
    }
   ],
   "source": [
    "#\n",
    "# Data importation\n",
    "#\n",
    "print('Loading data...')\n",
    "X = np.load('../data/excellent_unoriented/obs.npy')\n",
    "y = np.load(\"../data/excellent_unoriented/array_labels.npy\")\n",
    "\n",
    "nb_class = 27\n",
    "\n",
    "X_synth = np.load('../data/mixed_synthetic/signal_synthetic.npy')\n",
    "y_synth = np.load('../data/mixed_synthetic/fractions_synthetic.npy')\n",
    "\n",
    "#\n",
    "# Train-Test split\n",
    "#\n",
    "X_i, X_test, y_i, y_test = train_test_split(np.vstack((X,X_synth)), np.vstack((y,y_synth)), test_size=0.20, random_state=42, shuffle=True)\n",
    "X_train, X_valid, y_train, y_valid = train_test_split(X_i, y_i, test_size=0.20, random_state=42, shuffle=True)\n",
    "\n",
    "\n",
    "#\n",
    "# Reshaping\n",
    "# we need to expand to have 3D tensors as input of the 1D CNN\n",
    "\n",
    "X_train = np.expand_dims(X_train, axis=2)\n",
    "X_valid = np.expand_dims(X_valid, axis=2)\n",
    "X_test = np.expand_dims(X_test, axis=2)\n",
    "\n",
    "print('Shape is {}'.format(X_train.shape))\n",
    "print(len(X_train), 'train sequences')\n",
    "print(len(X_test), 'test sequences')\n",
    "\n"
   ]
  },
  {
   "cell_type": "markdown",
   "metadata": {},
   "source": [
    "# Building model"
   ]
  },
  {
   "cell_type": "code",
   "execution_count": 22,
   "metadata": {},
   "outputs": [
    {
     "name": "stdout",
     "output_type": "stream",
     "text": [
      "Build model...\n"
     ]
    }
   ],
   "source": [
    "#%%\n",
    "print('Build model...')\n",
    "model = Sequential()\n",
    "\n",
    "# create the model\n",
    "model.add(Conv1D(16,8,activation='relu',kernel_initializer='glorot_uniform',input_shape=(X_train.shape[1],1)))\n",
    "model.add(MaxPooling1D())\n",
    "model.add(Dropout(0.2))\n",
    "\n",
    "model.add(Conv1D(4,2,activation='relu',kernel_initializer='glorot_uniform'))\n",
    "model.add(MaxPooling1D())\n",
    "model.add(Dropout(0.2))\n",
    "\n",
    "model.add(Flatten())\n",
    "\n",
    "model.add(Dense(100, activation='relu'))\n",
    "\n",
    "model.add(Dense(nb_class, activation='softmax'))\n"
   ]
  },
  {
   "cell_type": "markdown",
   "metadata": {},
   "source": [
    "# Initialize model"
   ]
  },
  {
   "cell_type": "code",
   "execution_count": 23,
   "metadata": {},
   "outputs": [
    {
     "name": "stdout",
     "output_type": "stream",
     "text": [
      "_________________________________________________________________\n",
      "Layer (type)                 Output Shape              Param #   \n",
      "=================================================================\n",
      "conv1d_5 (Conv1D)            (None, 993, 16)           144       \n",
      "_________________________________________________________________\n",
      "max_pooling1d_5 (MaxPooling1 (None, 496, 16)           0         \n",
      "_________________________________________________________________\n",
      "dropout_5 (Dropout)          (None, 496, 16)           0         \n",
      "_________________________________________________________________\n",
      "conv1d_6 (Conv1D)            (None, 495, 4)            132       \n",
      "_________________________________________________________________\n",
      "max_pooling1d_6 (MaxPooling1 (None, 247, 4)            0         \n",
      "_________________________________________________________________\n",
      "dropout_6 (Dropout)          (None, 247, 4)            0         \n",
      "_________________________________________________________________\n",
      "flatten_3 (Flatten)          (None, 988)               0         \n",
      "_________________________________________________________________\n",
      "dense_5 (Dense)              (None, 100)               98900     \n",
      "_________________________________________________________________\n",
      "dense_6 (Dense)              (None, 27)                2727      \n",
      "=================================================================\n",
      "Total params: 101,903\n",
      "Trainable params: 101,903\n",
      "Non-trainable params: 0\n",
      "_________________________________________________________________\n",
      "None\n"
     ]
    }
   ],
   "source": [
    "early_stopping = EarlyStopping(monitor='val_loss', patience=5)\n",
    "model.compile(loss='binary_crossentropy', optimizer='adam', metrics=['accuracy'])\n",
    "\n",
    "print(model.summary())"
   ]
  },
  {
   "cell_type": "markdown",
   "metadata": {},
   "source": [
    "# Fit"
   ]
  },
  {
   "cell_type": "code",
   "execution_count": 34,
   "metadata": {},
   "outputs": [
    {
     "name": "stdout",
     "output_type": "stream",
     "text": [
      "Train on 845 samples, validate on 212 samples\n",
      "Epoch 1/100\n",
      "845/845 [==============================] - 2s 3ms/step - loss: 0.0605 - acc: 0.9173 - val_loss: 0.0683 - val_acc: 0.9174\n",
      "Epoch 2/100\n",
      "845/845 [==============================] - 2s 2ms/step - loss: 0.0603 - acc: 0.9173 - val_loss: 0.0669 - val_acc: 0.9179\n",
      "Epoch 3/100\n",
      "845/845 [==============================] - 2s 3ms/step - loss: 0.0599 - acc: 0.9172 - val_loss: 0.0684 - val_acc: 0.9174\n",
      "Epoch 4/100\n",
      "845/845 [==============================] - 2s 2ms/step - loss: 0.0599 - acc: 0.9172 - val_loss: 0.0680 - val_acc: 0.9168\n",
      "Epoch 5/100\n",
      "845/845 [==============================] - 2s 3ms/step - loss: 0.0596 - acc: 0.9176 - val_loss: 0.0669 - val_acc: 0.9172\n",
      "Epoch 6/100\n",
      "845/845 [==============================] - 2s 3ms/step - loss: 0.0598 - acc: 0.9175 - val_loss: 0.0673 - val_acc: 0.9175\n",
      "Epoch 7/100\n",
      "845/845 [==============================] - 2s 2ms/step - loss: 0.0587 - acc: 0.9176 - val_loss: 0.0668 - val_acc: 0.9179\n",
      "Epoch 8/100\n",
      "845/845 [==============================] - 2s 2ms/step - loss: 0.0580 - acc: 0.9177 - val_loss: 0.0662 - val_acc: 0.9175\n",
      "Epoch 9/100\n",
      "845/845 [==============================] - 2s 2ms/step - loss: 0.0581 - acc: 0.9176 - val_loss: 0.0663 - val_acc: 0.9172\n",
      "Epoch 10/100\n",
      "845/845 [==============================] - 2s 2ms/step - loss: 0.0590 - acc: 0.9172 - val_loss: 0.0667 - val_acc: 0.9174\n",
      "Epoch 11/100\n",
      "845/845 [==============================] - 2s 2ms/step - loss: 0.0582 - acc: 0.9174 - val_loss: 0.0667 - val_acc: 0.9170\n",
      "Epoch 12/100\n",
      "845/845 [==============================] - 2s 2ms/step - loss: 0.0576 - acc: 0.9176 - val_loss: 0.0679 - val_acc: 0.9172\n",
      "Epoch 13/100\n",
      "845/845 [==============================] - 2s 2ms/step - loss: 0.0578 - acc: 0.9172 - val_loss: 0.0663 - val_acc: 0.9170\n"
     ]
    },
    {
     "data": {
      "text/plain": [
       "<keras.callbacks.History at 0x1a58b66910>"
      ]
     },
     "execution_count": 34,
     "metadata": {},
     "output_type": "execute_result"
    }
   ],
   "source": [
    "model.fit(X_train, y_train, validation_data=(X_valid, y_valid), epochs=100, batch_size=8,callbacks=[early_stopping])"
   ]
  },
  {
   "cell_type": "markdown",
   "metadata": {},
   "source": [
    "# Evaluation on test subset"
   ]
  },
  {
   "cell_type": "code",
   "execution_count": 25,
   "metadata": {},
   "outputs": [
    {
     "name": "stdout",
     "output_type": "stream",
     "text": [
      "Train accuracy: 91.78%\n",
      "Valid accuracy: 91.75%\n",
      "TestAccuracy: 91.68%\n"
     ]
    }
   ],
   "source": [
    "scores_train = model.evaluate(X_train, y_train, verbose=0)\n",
    "print(\"Train accuracy: %.2f%%\" % (scores_train[1]*100))\n",
    "scores_valid = model.evaluate(X_valid, y_valid, verbose=0)\n",
    "print(\"Valid accuracy: %.2f%%\" % (scores_valid[1]*100))\n",
    "scores_test = model.evaluate(X_test, y_test, verbose=0)\n",
    "print(\"TestAccuracy: %.2f%%\" % (scores_test[1]*100))"
   ]
  },
  {
   "cell_type": "markdown",
   "metadata": {},
   "source": [
    "# On observations"
   ]
  },
  {
   "cell_type": "code",
   "execution_count": 31,
   "metadata": {},
   "outputs": [],
   "source": [
    "X_observed = np.load(\"./data/To_Recognize/obs.npy\")\n",
    "X_observed = np.expand_dims(X_observed, axis=2)\n",
    "\n",
    "prediction_obs = model.predict_proba(X_observed)"
   ]
  },
  {
   "cell_type": "code",
   "execution_count": 37,
   "metadata": {},
   "outputs": [
    {
     "data": {
      "text/plain": [
       "[<matplotlib.lines.Line2D at 0x1a59ff6b90>]"
      ]
     },
     "execution_count": 37,
     "metadata": {},
     "output_type": "execute_result"
    },
    {
     "data": {
      "image/png": "[encoded data removed]",
      "text/plain": [
       "<Figure size 432x288 with 1 Axes>"
      ]
     },
     "metadata": {
      "needs_background": "light"
     },
     "output_type": "display_data"
    }
   ],
   "source": [
    "%matplotlib inline\n",
    "import matplotlib.pyplot as plt\n",
    "\n",
    "plt.plot(prediction_obs[0,:])\n",
    "\n",
    "plt.plot(prediction_obs[3,:])\n",
    "\n",
    "plt.ylabel(\"Class\")\n",
    "plt.yticks()"
   ]
  },
  {
   "cell_type": "code",
   "execution_count": null,
   "metadata": {},
   "outputs": [],
   "source": []
  }
 ],
 "metadata": {
  "kernelspec": {
   "display_name": "Python 3",
   "language": "python",
   "name": "python3"
  },
  "language_info": {
   "codemirror_mode": {
    "name": "ipython",
    "version": 3
   },
   "file_extension": ".py",
   "mimetype": "text/x-python",
   "name": "python",
   "nbconvert_exporter": "python",
   "pygments_lexer": "ipython3",
   "version": "3.7.5"
  }
 },
 "nbformat": 4,
 "nbformat_minor": 2
}
