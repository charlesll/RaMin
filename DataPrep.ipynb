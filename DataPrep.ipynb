{
 "cells": [
  {
   "cell_type": "code",
   "execution_count": 1,
   "metadata": {},
   "outputs": [],
   "source": [
    "# Copyrights (c) Charles Le Losq 2017\n",
    "import numpy as np\n",
    "import os, sys\n",
    "\n",
    "import matplotlib\n",
    "matplotlib.use('Agg') # non interactive renderer\n",
    "from matplotlib import pyplot as plt\n",
    "\n",
    "import pandas as pd\n",
    "import rampy\n",
    "import scipy\n",
    "\n",
    "import pickle\n",
    "\n",
    "from tqdm import tqdm"
   ]
  },
  {
   "cell_type": "code",
   "execution_count": 3,
   "metadata": {},
   "outputs": [
    {
     "name": "stderr",
     "output_type": "stream",
     "text": [
      "100%|██████████| 27/27 [00:00<00:00, 2007.02it/s]\n",
      " 11%|█         | 1/9 [00:00<00:01,  7.25it/s]"
     ]
    },
    {
     "name": "stdout",
     "output_type": "stream",
     "text": [
      "Preparing to treat the spectra in\n",
      "./data/To_Recognize/spectra/\n",
      "and output the images in path\n",
      "./data/To_Recognize/\n",
      "Getting the interesting data...\n",
      "Processing the interesting data...\n"
     ]
    },
    {
     "name": "stderr",
     "output_type": "stream",
     "text": [
      "100%|██████████| 9/9 [00:00<00:00,  9.04it/s]\n"
     ]
    }
   ],
   "source": [
    "start_path =r'./data/To_Recognize/spectra/'\n",
    "out_path =r'./data/To_Recognize/'\n",
    "\n",
    "#spectra_liste = pd.read_excel('./data/file_liste_excellent.xlsx',sheet_name='liste') # RRUUFF dataset\n",
    "choice = pd.read_excel('./data/file_liste_excellent.xlsx',sheet_name='subset_to_train')\n",
    "spectra_liste = pd.read_excel('./data/file_liste_excellent.xlsx',sheet_name='testnat') # anto's zircon and diamonds\n",
    "\n",
    "print('Preparing to treat the spectra in\\n'+start_path+'\\nand output the images in path\\n'+out_path)\n",
    "\n",
    "# getting options\n",
    "nb_class = 27 # Switching between the plot or xy mode\n",
    "switch_baseline = True # In case the baseline is wanted\n",
    "delimiter = \" \" # In case the baseline is wanted\n",
    "\n",
    "# getting the index\n",
    "print(\"Getting the interesting data...\")\n",
    "for j in tqdm(range(len(choice['mineral']))):\n",
    "    if j == 0:\n",
    "        idx_liste = spectra_liste.loc[spectra_liste['mineral'] == choice['mineral'][j]].index.values\n",
    "    else:\n",
    "        idx_liste2 = spectra_liste.loc[spectra_liste['mineral'] == choice['mineral'][j]].index.values\n",
    "        idx_liste = np.hstack((idx_liste,idx_liste2))\n",
    "\n",
    "# For sklearn output\n",
    "xcommon = np.arange(200,1200,1.0)\n",
    "output_bulk_array = np.zeros((len(idx_liste),len(xcommon)))\n",
    "output_labels = []\n",
    "array_labels = np.zeros((len(idx_liste),nb_class))\n",
    "\n",
    "print(\"Processing the interesting data...\")\n",
    "for i in tqdm(range(len(idx_liste))):\n",
    "    idx = idx_liste[i]\n",
    "    \n",
    "    # Data importation, baseline treatment, and normalisation\n",
    "    spectrum = np.genfromtxt(start_path+spectra_liste['filename'][idx],delimiter=delimiter,skip_header=10)\n",
    "\n",
    "    if switch_baseline == True:\n",
    "        out1, out2 = rampy.baseline(spectrum[:,0],spectrum[:,1],np.array([[0,1600]]),\"als\",lam=10.0**5)\n",
    "        x = spectrum[:,0]\n",
    "        y = out1[:,0]\n",
    "    else:\n",
    "        x = spectrum[:,0]\n",
    "        y = spectrum[:,1]\n",
    "\n",
    "    # For the X output = the spectrum\n",
    "    f = scipy.interpolate.interp1d(x,y,bounds_error=False,fill_value=0.0) # y values outside the observed x are put to 0.\n",
    "    output_bulk_array[i,:] = f(xcommon)/np.max(f(xcommon))\n",
    "\n",
    "    # For the Y output = the labels\n",
    "    label = int(choice[choice['mineral'] == spectra_liste['mineral'][idx]]['label'])\n",
    "    output_labels.append(label)\n",
    "    array_labels[i,label] = 1"
   ]
  },
  {
   "cell_type": "code",
   "execution_count": 4,
   "metadata": {},
   "outputs": [
    {
     "name": "stdout",
     "output_type": "stream",
     "text": [
      "Done\n"
     ]
    }
   ],
   "source": [
    "# in case we ask output for sklearn, we need to save it\n",
    "with open(out_path+'labels.pkl', 'wb') as fp:\n",
    "        pickle.dump(output_labels, fp)\n",
    "np.save(out_path+'array_labels',array_labels)\n",
    "np.save(out_path+'obs', output_bulk_array)\n",
    "\n",
    "print('Done')"
   ]
  },
  {
   "cell_type": "code",
   "execution_count": null,
   "metadata": {},
   "outputs": [],
   "source": []
  }
 ],
 "metadata": {
  "kernelspec": {
   "display_name": "Python 3",
   "language": "python",
   "name": "python3"
  },
  "language_info": {
   "codemirror_mode": {
    "name": "ipython",
    "version": 3
   },
   "file_extension": ".py",
   "mimetype": "text/x-python",
   "name": "python",
   "nbconvert_exporter": "python",
   "pygments_lexer": "ipython3",
   "version": "3.7.5"
  }
 },
 "nbformat": 4,
 "nbformat_minor": 2
}
